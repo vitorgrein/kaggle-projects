{
 "cells": [
  {
   "cell_type": "markdown",
   "id": "38c5ffe9",
   "metadata": {
    "papermill": {
     "duration": 0.003163,
     "end_time": "2025-04-21T02:42:47.997432",
     "exception": false,
     "start_time": "2025-04-21T02:42:47.994269",
     "status": "completed"
    },
    "tags": []
   },
   "source": [
    "# 🧠 Thyroid Cancer Recurrence Prediction using Keras\n",
    "\n",
    "In this notebook, we will use a neural network built with **Keras** (TensorFlow backend) to explore and answer some key clinical questions related to **thyroid cancer recurrence**.\n",
    "\n",
    "### 🔍 Objectives\n",
    "\n",
    "We'll focus on answering the following questions:\n",
    "\n",
    "1. **Are thyroid cancer recurrences more common in men or women?**\n",
    "2. **How does age affect recurrence risk?**\n",
    "3. **Can we predict recurrence based on tumor staging and pathology?**\n",
    "4. **What is the relationship between treatment response and recurrence?**\n",
    "\n",
    "We will also create **interactive visualizations** with `Plotly` and use a **neural network** to predict recurrence based on multiple clinical variables.\n",
    "\n",
    "---\n",
    "\n",
    "### 📦 Libraries Used\n",
    "\n",
    "Make sure the following libraries are installed:\n",
    "\n",
    "```python\n",
    "!pip install pandas numpy plotly scikit-learn tensorflow plotly"
   ]
  },
  {
   "cell_type": "code",
   "execution_count": 1,
   "id": "75ede96f",
   "metadata": {
    "execution": {
     "iopub.execute_input": "2025-04-21T02:42:48.003959Z",
     "iopub.status.busy": "2025-04-21T02:42:48.003551Z",
     "iopub.status.idle": "2025-04-21T02:43:11.525025Z",
     "shell.execute_reply": "2025-04-21T02:43:11.524032Z"
    },
    "papermill": {
     "duration": 23.527086,
     "end_time": "2025-04-21T02:43:11.527120",
     "exception": false,
     "start_time": "2025-04-21T02:42:48.000034",
     "status": "completed"
    },
    "tags": []
   },
   "outputs": [
    {
     "name": "stdout",
     "output_type": "stream",
     "text": [
      "WARNING:tensorflow:From C:\\Users\\Pichau\\AppData\\Roaming\\Python\\Python311\\site-packages\\keras\\src\\losses.py:2976: The name tf.losses.sparse_softmax_cross_entropy is deprecated. Please use tf.compat.v1.losses.sparse_softmax_cross_entropy instead.\n",
      "\n"
     ]
    }
   ],
   "source": [
    "# 📚 Library Imports\n",
    "\n",
    "# Data manipulation\n",
    "import pandas as pd\n",
    "import numpy as np\n",
    "\n",
    "# Preprocessing and model utilities\n",
    "from sklearn.preprocessing import LabelEncoder, StandardScaler\n",
    "from sklearn.model_selection import train_test_split\n",
    "\n",
    "# Deep learning - Keras with TensorFlow backend\n",
    "import tensorflow as tf\n",
    "from tensorflow.keras.models import Sequential\n",
    "from tensorflow.keras.layers import Dense, Dropout\n",
    "\n",
    "# Plotting\n",
    "import plotly.express as px\n",
    "from plotly.subplots import make_subplots"
   ]
  },
  {
   "cell_type": "code",
   "execution_count": 4,
   "id": "280bc008",
   "metadata": {
    "execution": {
     "iopub.execute_input": "2025-04-21T02:43:11.534752Z",
     "iopub.status.busy": "2025-04-21T02:43:11.533469Z",
     "iopub.status.idle": "2025-04-21T02:43:11.574920Z",
     "shell.execute_reply": "2025-04-21T02:43:11.573357Z"
    },
    "papermill": {
     "duration": 0.046599,
     "end_time": "2025-04-21T02:43:11.576584",
     "exception": false,
     "start_time": "2025-04-21T02:43:11.529985",
     "status": "completed"
    },
    "tags": []
   },
   "outputs": [
    {
     "name": "stdout",
     "output_type": "stream",
     "text": [
      "   Age Gender Hx Radiothreapy Adenopathy       Pathology   Focality Risk    T  \\\n",
      "0   27      F              No         No  Micropapillary  Uni-Focal  Low  T1a   \n",
      "1   34      F              No         No  Micropapillary  Uni-Focal  Low  T1a   \n",
      "2   30      F              No         No  Micropapillary  Uni-Focal  Low  T1a   \n",
      "\n",
      "    N   M Stage       Response Recurred  \n",
      "0  N0  M0     I  Indeterminate       No  \n",
      "1  N0  M0     I      Excellent       No  \n",
      "2  N0  M0     I      Excellent       No  \n",
      "\n",
      "Target variable distribution:\n",
      "Recurred\n",
      "No     275\n",
      "Yes    108\n",
      "Name: count, dtype: int64\n"
     ]
    }
   ],
   "source": [
    "# 📥 Load the dataset\n",
    "\n",
    "df = pd.read_csv('data/filtered_thyroid_data.csv')\n",
    "\n",
    "# 🔍 Preview the first few rows\n",
    "print(df.head(3))\n",
    "\n",
    "# 📊 Check class distribution for recurrence\n",
    "print(\"\\nTarget variable distribution:\")\n",
    "print(df['Recurred'].value_counts())"
   ]
  },
  {
   "cell_type": "code",
   "execution_count": 5,
   "id": "f750da61",
   "metadata": {
    "execution": {
     "iopub.execute_input": "2025-04-21T02:43:11.582952Z",
     "iopub.status.busy": "2025-04-21T02:43:11.582557Z",
     "iopub.status.idle": "2025-04-21T02:43:11.612712Z",
     "shell.execute_reply": "2025-04-21T02:43:11.611703Z"
    },
    "papermill": {
     "duration": 0.035862,
     "end_time": "2025-04-21T02:43:11.615043",
     "exception": false,
     "start_time": "2025-04-21T02:43:11.579181",
     "status": "completed"
    },
    "tags": []
   },
   "outputs": [],
   "source": [
    "# 🔧 Data Preprocessing\n",
    "\n",
    "# Create a copy of the original dataframe\n",
    "df_enc = df.copy()\n",
    "\n",
    "# Initialize the LabelEncoder\n",
    "le = LabelEncoder()\n",
    "\n",
    "# Encode categorical features\n",
    "for col in df_enc.select_dtypes(include='object'):\n",
    "    df_enc[col] = le.fit_transform(df_enc[col])\n",
    "\n",
    "# Split features (X) and target (y)\n",
    "X = df_enc.drop('Recurred', axis=1)\n",
    "y = df_enc['Recurred']\n",
    "\n",
    "# 📊 Split into training and testing sets\n",
    "X_train, X_test, y_train, y_test = train_test_split(\n",
    "    X, y,\n",
    "    test_size=0.2,  # 20% for testing\n",
    "    random_state=42,  # Reproducible results\n",
    "    stratify=y  # Maintain distribution of target variable\n",
    ")"
   ]
  },
  {
   "cell_type": "code",
   "execution_count": 6,
   "id": "c1449481",
   "metadata": {
    "execution": {
     "iopub.execute_input": "2025-04-21T02:43:11.622382Z",
     "iopub.status.busy": "2025-04-21T02:43:11.622065Z",
     "iopub.status.idle": "2025-04-21T02:43:19.384272Z",
     "shell.execute_reply": "2025-04-21T02:43:19.382948Z"
    },
    "papermill": {
     "duration": 7.767527,
     "end_time": "2025-04-21T02:43:19.386052",
     "exception": false,
     "start_time": "2025-04-21T02:43:11.618525",
     "status": "completed"
    },
    "tags": []
   },
   "outputs": [
    {
     "name": "stdout",
     "output_type": "stream",
     "text": [
      "WARNING:tensorflow:From C:\\Users\\Pichau\\AppData\\Roaming\\Python\\Python311\\site-packages\\keras\\src\\backend.py:873: The name tf.get_default_graph is deprecated. Please use tf.compat.v1.get_default_graph instead.\n",
      "\n",
      "WARNING:tensorflow:From C:\\Users\\Pichau\\AppData\\Roaming\\Python\\Python311\\site-packages\\keras\\src\\optimizers\\__init__.py:309: The name tf.train.Optimizer is deprecated. Please use tf.compat.v1.train.Optimizer instead.\n",
      "\n",
      "Epoch 1/50\n",
      "WARNING:tensorflow:From C:\\Users\\Pichau\\AppData\\Roaming\\Python\\Python311\\site-packages\\keras\\src\\utils\\tf_utils.py:492: The name tf.ragged.RaggedTensorValue is deprecated. Please use tf.compat.v1.ragged.RaggedTensorValue instead.\n",
      "\n",
      "WARNING:tensorflow:From C:\\Users\\Pichau\\AppData\\Roaming\\Python\\Python311\\site-packages\\keras\\src\\engine\\base_layer_utils.py:384: The name tf.executing_eagerly_outside_functions is deprecated. Please use tf.compat.v1.executing_eagerly_outside_functions instead.\n",
      "\n",
      "16/16 [==============================] - 1s 12ms/step - loss: 0.5975 - accuracy: 0.8320 - val_loss: 0.5802 - val_accuracy: 0.8710\n",
      "Epoch 2/50\n",
      "16/16 [==============================] - 0s 3ms/step - loss: 0.5335 - accuracy: 0.8361 - val_loss: 0.5187 - val_accuracy: 0.9032\n",
      "Epoch 3/50\n",
      "16/16 [==============================] - 0s 3ms/step - loss: 0.4611 - accuracy: 0.8689 - val_loss: 0.4619 - val_accuracy: 0.9032\n",
      "Epoch 4/50\n",
      "16/16 [==============================] - 0s 3ms/step - loss: 0.4042 - accuracy: 0.8893 - val_loss: 0.4089 - val_accuracy: 0.9032\n",
      "Epoch 5/50\n",
      "16/16 [==============================] - 0s 3ms/step - loss: 0.3532 - accuracy: 0.8852 - val_loss: 0.3628 - val_accuracy: 0.8710\n",
      "Epoch 6/50\n",
      "16/16 [==============================] - 0s 3ms/step - loss: 0.3205 - accuracy: 0.9057 - val_loss: 0.3265 - val_accuracy: 0.8871\n",
      "Epoch 7/50\n",
      "16/16 [==============================] - 0s 3ms/step - loss: 0.2808 - accuracy: 0.9057 - val_loss: 0.3020 - val_accuracy: 0.8710\n",
      "Epoch 8/50\n",
      "16/16 [==============================] - 0s 3ms/step - loss: 0.2599 - accuracy: 0.9057 - val_loss: 0.2855 - val_accuracy: 0.8548\n",
      "Epoch 9/50\n",
      "16/16 [==============================] - 0s 3ms/step - loss: 0.2470 - accuracy: 0.9057 - val_loss: 0.2769 - val_accuracy: 0.8710\n",
      "Epoch 10/50\n",
      "16/16 [==============================] - 0s 3ms/step - loss: 0.2352 - accuracy: 0.9262 - val_loss: 0.2640 - val_accuracy: 0.8548\n",
      "Epoch 11/50\n",
      "16/16 [==============================] - 0s 3ms/step - loss: 0.2275 - accuracy: 0.9057 - val_loss: 0.2578 - val_accuracy: 0.8710\n",
      "Epoch 12/50\n",
      "16/16 [==============================] - 0s 3ms/step - loss: 0.2277 - accuracy: 0.9139 - val_loss: 0.2522 - val_accuracy: 0.8548\n",
      "Epoch 13/50\n",
      "16/16 [==============================] - 0s 3ms/step - loss: 0.2112 - accuracy: 0.9139 - val_loss: 0.2478 - val_accuracy: 0.8548\n",
      "Epoch 14/50\n",
      "16/16 [==============================] - 0s 2ms/step - loss: 0.2125 - accuracy: 0.9180 - val_loss: 0.2443 - val_accuracy: 0.8710\n",
      "Epoch 15/50\n",
      "16/16 [==============================] - 0s 3ms/step - loss: 0.2093 - accuracy: 0.9139 - val_loss: 0.2422 - val_accuracy: 0.8548\n",
      "Epoch 16/50\n",
      "16/16 [==============================] - 0s 3ms/step - loss: 0.2092 - accuracy: 0.9303 - val_loss: 0.2394 - val_accuracy: 0.8710\n",
      "Epoch 17/50\n",
      "16/16 [==============================] - 0s 3ms/step - loss: 0.1960 - accuracy: 0.9303 - val_loss: 0.2369 - val_accuracy: 0.8710\n",
      "Epoch 18/50\n",
      "16/16 [==============================] - 0s 2ms/step - loss: 0.2021 - accuracy: 0.9262 - val_loss: 0.2325 - val_accuracy: 0.8710\n",
      "Epoch 19/50\n",
      "16/16 [==============================] - 0s 2ms/step - loss: 0.2036 - accuracy: 0.9016 - val_loss: 0.2300 - val_accuracy: 0.8871\n",
      "Epoch 20/50\n",
      "16/16 [==============================] - 0s 2ms/step - loss: 0.1936 - accuracy: 0.9262 - val_loss: 0.2267 - val_accuracy: 0.9032\n",
      "Epoch 21/50\n",
      "16/16 [==============================] - 0s 2ms/step - loss: 0.1904 - accuracy: 0.9221 - val_loss: 0.2279 - val_accuracy: 0.8710\n",
      "Epoch 22/50\n",
      "16/16 [==============================] - 0s 3ms/step - loss: 0.1830 - accuracy: 0.9221 - val_loss: 0.2243 - val_accuracy: 0.8710\n",
      "Epoch 23/50\n",
      "16/16 [==============================] - 0s 2ms/step - loss: 0.1796 - accuracy: 0.9344 - val_loss: 0.2203 - val_accuracy: 0.8871\n",
      "Epoch 24/50\n",
      "16/16 [==============================] - 0s 2ms/step - loss: 0.1870 - accuracy: 0.9221 - val_loss: 0.2191 - val_accuracy: 0.9032\n",
      "Epoch 25/50\n",
      "16/16 [==============================] - 0s 2ms/step - loss: 0.1819 - accuracy: 0.9385 - val_loss: 0.2187 - val_accuracy: 0.9032\n",
      "Epoch 26/50\n",
      "16/16 [==============================] - 0s 2ms/step - loss: 0.1735 - accuracy: 0.9426 - val_loss: 0.2171 - val_accuracy: 0.9032\n",
      "Epoch 27/50\n",
      "16/16 [==============================] - 0s 2ms/step - loss: 0.1873 - accuracy: 0.9262 - val_loss: 0.2109 - val_accuracy: 0.9194\n",
      "Epoch 28/50\n",
      "16/16 [==============================] - 0s 2ms/step - loss: 0.1774 - accuracy: 0.9221 - val_loss: 0.2105 - val_accuracy: 0.9194\n",
      "Epoch 29/50\n",
      "16/16 [==============================] - 0s 2ms/step - loss: 0.1718 - accuracy: 0.9385 - val_loss: 0.2081 - val_accuracy: 0.9194\n",
      "Epoch 30/50\n",
      "16/16 [==============================] - 0s 2ms/step - loss: 0.1794 - accuracy: 0.9180 - val_loss: 0.2085 - val_accuracy: 0.9194\n",
      "Epoch 31/50\n",
      "16/16 [==============================] - 0s 2ms/step - loss: 0.1635 - accuracy: 0.9467 - val_loss: 0.2059 - val_accuracy: 0.9194\n",
      "Epoch 32/50\n",
      "16/16 [==============================] - 0s 3ms/step - loss: 0.1720 - accuracy: 0.9344 - val_loss: 0.2027 - val_accuracy: 0.9194\n",
      "Epoch 33/50\n",
      "16/16 [==============================] - 0s 3ms/step - loss: 0.1695 - accuracy: 0.9344 - val_loss: 0.2009 - val_accuracy: 0.9194\n",
      "Epoch 34/50\n",
      "16/16 [==============================] - 0s 3ms/step - loss: 0.1564 - accuracy: 0.9467 - val_loss: 0.1982 - val_accuracy: 0.9194\n",
      "Epoch 35/50\n",
      "16/16 [==============================] - 0s 3ms/step - loss: 0.1685 - accuracy: 0.9385 - val_loss: 0.1964 - val_accuracy: 0.9194\n",
      "Epoch 36/50\n",
      "16/16 [==============================] - 0s 2ms/step - loss: 0.1535 - accuracy: 0.9590 - val_loss: 0.1944 - val_accuracy: 0.9194\n",
      "Epoch 37/50\n",
      "16/16 [==============================] - 0s 3ms/step - loss: 0.1438 - accuracy: 0.9467 - val_loss: 0.1963 - val_accuracy: 0.9194\n",
      "Epoch 38/50\n",
      "16/16 [==============================] - 0s 3ms/step - loss: 0.1547 - accuracy: 0.9426 - val_loss: 0.1963 - val_accuracy: 0.9194\n",
      "Epoch 39/50\n",
      "16/16 [==============================] - 0s 3ms/step - loss: 0.1525 - accuracy: 0.9385 - val_loss: 0.1904 - val_accuracy: 0.9194\n",
      "Epoch 40/50\n",
      "16/16 [==============================] - 0s 3ms/step - loss: 0.1365 - accuracy: 0.9508 - val_loss: 0.1902 - val_accuracy: 0.9194\n",
      "Epoch 41/50\n",
      "16/16 [==============================] - 0s 3ms/step - loss: 0.1580 - accuracy: 0.9385 - val_loss: 0.1918 - val_accuracy: 0.9194\n",
      "Epoch 42/50\n",
      "16/16 [==============================] - 0s 3ms/step - loss: 0.1332 - accuracy: 0.9549 - val_loss: 0.1878 - val_accuracy: 0.9194\n",
      "Epoch 43/50\n",
      "16/16 [==============================] - 0s 3ms/step - loss: 0.1323 - accuracy: 0.9590 - val_loss: 0.1838 - val_accuracy: 0.9194\n",
      "Epoch 44/50\n",
      "16/16 [==============================] - 0s 3ms/step - loss: 0.1361 - accuracy: 0.9508 - val_loss: 0.1806 - val_accuracy: 0.9355\n",
      "Epoch 45/50\n",
      "16/16 [==============================] - 0s 2ms/step - loss: 0.1536 - accuracy: 0.9303 - val_loss: 0.1788 - val_accuracy: 0.9355\n",
      "Epoch 46/50\n",
      "16/16 [==============================] - 0s 2ms/step - loss: 0.1375 - accuracy: 0.9508 - val_loss: 0.1801 - val_accuracy: 0.9194\n",
      "Epoch 47/50\n",
      "16/16 [==============================] - 0s 2ms/step - loss: 0.1418 - accuracy: 0.9508 - val_loss: 0.1765 - val_accuracy: 0.9355\n",
      "Epoch 48/50\n",
      "16/16 [==============================] - 0s 2ms/step - loss: 0.1331 - accuracy: 0.9590 - val_loss: 0.1752 - val_accuracy: 0.9355\n",
      "Epoch 49/50\n",
      "16/16 [==============================] - 0s 2ms/step - loss: 0.1283 - accuracy: 0.9385 - val_loss: 0.1720 - val_accuracy: 0.9355\n",
      "Epoch 50/50\n",
      "16/16 [==============================] - 0s 3ms/step - loss: 0.1394 - accuracy: 0.9508 - val_loss: 0.1668 - val_accuracy: 0.9355\n",
      "3/3 [==============================] - 0s 1ms/step - loss: 0.1602 - accuracy: 0.9351\n",
      "Test accuracy: 93.51%\n"
     ]
    }
   ],
   "source": [
    "# 🔧 Feature Scaling\n",
    "\n",
    "# Fit and transform the training data\n",
    "scaler = StandardScaler()\n",
    "X_train = scaler.fit_transform(X_train)\n",
    "\n",
    "# Transform the test data\n",
    "X_test = scaler.transform(X_test)\n",
    "\n",
    "# 🧠 Building the Neural Network Model\n",
    "model = Sequential([\n",
    "    Dense(32, activation='relu', input_shape=(X_train.shape[1],)),\n",
    "    Dropout(0.2),\n",
    "    Dense(16, activation='relu'),\n",
    "    Dense(1, activation='sigmoid')\n",
    "])\n",
    "\n",
    "# 📊 Compile the model\n",
    "model.compile(\n",
    "    optimizer='adam',\n",
    "    loss='binary_crossentropy',\n",
    "    metrics=['accuracy']\n",
    ")\n",
    "\n",
    "# 🏋️‍♂️ Train the model\n",
    "history = model.fit(\n",
    "    X_train, y_train,\n",
    "    epochs=50,\n",
    "    batch_size=16,\n",
    "    validation_split=0.2,\n",
    "    callbacks=[\n",
    "        tf.keras.callbacks.EarlyStopping(\n",
    "            monitor='val_loss',\n",
    "            patience=5,\n",
    "            restore_best_weights=True\n",
    "        )\n",
    "    ],\n",
    "    verbose=1\n",
    ")\n",
    "\n",
    "# 🧪 Evaluate the model\n",
    "loss, acc = model.evaluate(X_test, y_test)\n",
    "print(f'Test accuracy: {acc:.2%}')"
   ]
  },
  {
   "cell_type": "code",
   "execution_count": 8,
   "id": "de233f6c",
   "metadata": {
    "execution": {
     "iopub.execute_input": "2025-04-21T02:43:19.409145Z",
     "iopub.status.busy": "2025-04-21T02:43:19.408760Z",
     "iopub.status.idle": "2025-04-21T02:43:21.826071Z",
     "shell.execute_reply": "2025-04-21T02:43:21.823683Z"
    },
    "papermill": {
     "duration": 2.430251,
     "end_time": "2025-04-21T02:43:21.828273",
     "exception": false,
     "start_time": "2025-04-21T02:43:19.398022",
     "status": "completed"
    },
    "tags": []
   },
   "outputs": [
    {
     "data": {
      "application/vnd.plotly.v1+json": {
       "config": {
        "plotlyServerURL": "https://plot.ly"
       },
       "data": [
        {
         "alignmentgroup": "True",
         "bingroup": "x",
         "hovertemplate": "Recurred=No<br>Gender=%{x}<br>count=%{y}<extra></extra>",
         "legendgroup": "No",
         "marker": {
          "color": "#636efa",
          "pattern": {
           "shape": ""
          }
         },
         "name": "No",
         "offsetgroup": "No",
         "orientation": "v",
         "showlegend": true,
         "texttemplate": "%{value}",
         "type": "histogram",
         "x": [
          "F",
          "F",
          "F",
          "F",
          "F",
          "M",
          "F",
          "F",
          "F",
          "F",
          "F",
          "F",
          "F",
          "F",
          "F",
          "F",
          "F",
          "F",
          "F",
          "F",
          "F",
          "F",
          "F",
          "F",
          "F",
          "F",
          "M",
          "M",
          "F",
          "F",
          "F",
          "F",
          "F",
          "F",
          "M",
          "F",
          "F",
          "M",
          "F",
          "F",
          "F",
          "F",
          "F",
          "F",
          "F",
          "F",
          "F",
          "F",
          "F",
          "F",
          "F",
          "F",
          "F",
          "F",
          "F",
          "F",
          "F",
          "F",
          "F",
          "M",
          "F",
          "F",
          "F",
          "F",
          "F",
          "F",
          "F",
          "M",
          "F",
          "F",
          "F",
          "F",
          "F",
          "F",
          "F",
          "F",
          "F",
          "F",
          "F",
          "F",
          "F",
          "F",
          "F",
          "F",
          "F",
          "F",
          "F",
          "F",
          "F",
          "F",
          "F",
          "F",
          "F",
          "F",
          "M",
          "F",
          "F",
          "F",
          "F",
          "F",
          "F",
          "F",
          "F",
          "F",
          "F",
          "F",
          "F",
          "F",
          "F",
          "F",
          "F",
          "F",
          "F",
          "F",
          "F",
          "F",
          "F",
          "F",
          "F",
          "F",
          "F",
          "F",
          "F",
          "F",
          "F",
          "F",
          "F",
          "F",
          "F",
          "F",
          "F",
          "F",
          "F",
          "F",
          "F",
          "F",
          "F",
          "F",
          "F",
          "F",
          "F",
          "F",
          "F",
          "F",
          "F",
          "F",
          "F",
          "F",
          "F",
          "F",
          "M",
          "M",
          "F",
          "F",
          "F",
          "F",
          "F",
          "F",
          "F",
          "F",
          "F",
          "F",
          "F",
          "M",
          "F",
          "F",
          "M",
          "F",
          "F",
          "F",
          "F",
          "F",
          "F",
          "M",
          "F",
          "F",
          "F",
          "F",
          "F",
          "F",
          "F",
          "F",
          "F",
          "F",
          "F",
          "F",
          "F",
          "F",
          "F",
          "M",
          "F",
          "F",
          "F",
          "M",
          "F",
          "F",
          "M",
          "M",
          "F",
          "F",
          "F",
          "F",
          "F",
          "F",
          "F",
          "F",
          "F",
          "M",
          "F",
          "F",
          "F",
          "F",
          "M",
          "F",
          "F",
          "F",
          "F",
          "F",
          "F",
          "F",
          "F",
          "F",
          "F",
          "F",
          "F",
          "F",
          "F",
          "F",
          "M",
          "F",
          "M",
          "F",
          "F",
          "F",
          "M",
          "F",
          "F",
          "F",
          "F",
          "F",
          "F",
          "M",
          "F",
          "F",
          "F",
          "F",
          "F",
          "F",
          "M",
          "M",
          "F",
          "M",
          "M",
          "F",
          "F",
          "F",
          "F",
          "F",
          "F",
          "F",
          "F",
          "M",
          "F",
          "F",
          "F",
          "F",
          "F",
          "F",
          "M",
          "F",
          "F",
          "F",
          "F",
          "F",
          "F"
         ],
         "xaxis": "x",
         "yaxis": "y"
        },
        {
         "alignmentgroup": "True",
         "bingroup": "x",
         "hovertemplate": "Recurred=Yes<br>Gender=%{x}<br>count=%{y}<extra></extra>",
         "legendgroup": "Yes",
         "marker": {
          "color": "#EF553B",
          "pattern": {
           "shape": ""
          }
         },
         "name": "Yes",
         "offsetgroup": "Yes",
         "orientation": "v",
         "showlegend": true,
         "texttemplate": "%{value}",
         "type": "histogram",
         "x": [
          "F",
          "F",
          "F",
          "M",
          "F",
          "F",
          "F",
          "M",
          "F",
          "F",
          "F",
          "M",
          "M",
          "M",
          "F",
          "F",
          "F",
          "F",
          "F",
          "F",
          "M",
          "F",
          "M",
          "M",
          "M",
          "M",
          "M",
          "F",
          "F",
          "F",
          "M",
          "F",
          "F",
          "F",
          "F",
          "F",
          "F",
          "F",
          "M",
          "F",
          "M",
          "F",
          "F",
          "F",
          "M",
          "F",
          "F",
          "M",
          "F",
          "F",
          "M",
          "M",
          "M",
          "F",
          "F",
          "F",
          "F",
          "F",
          "M",
          "F",
          "F",
          "M",
          "F",
          "M",
          "M",
          "F",
          "F",
          "F",
          "F",
          "F",
          "F",
          "F",
          "M",
          "M",
          "F",
          "M",
          "F",
          "M",
          "F",
          "F",
          "M",
          "M",
          "F",
          "F",
          "F",
          "M",
          "F",
          "F",
          "F",
          "F",
          "F",
          "F",
          "M",
          "F",
          "M",
          "M",
          "F",
          "F",
          "M",
          "M",
          "F",
          "M",
          "M",
          "M",
          "M",
          "M",
          "M",
          "M"
         ],
         "xaxis": "x",
         "yaxis": "y"
        },
        {
         "alignmentgroup": "True",
         "hovertemplate": "Recurred=%{x}<br>Age=%{y}<extra></extra>",
         "legendgroup": "No",
         "marker": {
          "color": "#636efa"
         },
         "name": "No",
         "notched": false,
         "offsetgroup": "No",
         "orientation": "v",
         "showlegend": true,
         "type": "box",
         "x": [
          "No",
          "No",
          "No",
          "No",
          "No",
          "No",
          "No",
          "No",
          "No",
          "No",
          "No",
          "No",
          "No",
          "No",
          "No",
          "No",
          "No",
          "No",
          "No",
          "No",
          "No",
          "No",
          "No",
          "No",
          "No",
          "No",
          "No",
          "No",
          "No",
          "No",
          "No",
          "No",
          "No",
          "No",
          "No",
          "No",
          "No",
          "No",
          "No",
          "No",
          "No",
          "No",
          "No",
          "No",
          "No",
          "No",
          "No",
          "No",
          "No",
          "No",
          "No",
          "No",
          "No",
          "No",
          "No",
          "No",
          "No",
          "No",
          "No",
          "No",
          "No",
          "No",
          "No",
          "No",
          "No",
          "No",
          "No",
          "No",
          "No",
          "No",
          "No",
          "No",
          "No",
          "No",
          "No",
          "No",
          "No",
          "No",
          "No",
          "No",
          "No",
          "No",
          "No",
          "No",
          "No",
          "No",
          "No",
          "No",
          "No",
          "No",
          "No",
          "No",
          "No",
          "No",
          "No",
          "No",
          "No",
          "No",
          "No",
          "No",
          "No",
          "No",
          "No",
          "No",
          "No",
          "No",
          "No",
          "No",
          "No",
          "No",
          "No",
          "No",
          "No",
          "No",
          "No",
          "No",
          "No",
          "No",
          "No",
          "No",
          "No",
          "No",
          "No",
          "No",
          "No",
          "No",
          "No",
          "No",
          "No",
          "No",
          "No",
          "No",
          "No",
          "No",
          "No",
          "No",
          "No",
          "No",
          "No",
          "No",
          "No",
          "No",
          "No",
          "No",
          "No",
          "No",
          "No",
          "No",
          "No",
          "No",
          "No",
          "No",
          "No",
          "No",
          "No",
          "No",
          "No",
          "No",
          "No",
          "No",
          "No",
          "No",
          "No",
          "No",
          "No",
          "No",
          "No",
          "No",
          "No",
          "No",
          "No",
          "No",
          "No",
          "No",
          "No",
          "No",
          "No",
          "No",
          "No",
          "No",
          "No",
          "No",
          "No",
          "No",
          "No",
          "No",
          "No",
          "No",
          "No",
          "No",
          "No",
          "No",
          "No",
          "No",
          "No",
          "No",
          "No",
          "No",
          "No",
          "No",
          "No",
          "No",
          "No",
          "No",
          "No",
          "No",
          "No",
          "No",
          "No",
          "No",
          "No",
          "No",
          "No",
          "No",
          "No",
          "No",
          "No",
          "No",
          "No",
          "No",
          "No",
          "No",
          "No",
          "No",
          "No",
          "No",
          "No",
          "No",
          "No",
          "No",
          "No",
          "No",
          "No",
          "No",
          "No",
          "No",
          "No",
          "No",
          "No",
          "No",
          "No",
          "No",
          "No",
          "No",
          "No",
          "No",
          "No",
          "No",
          "No",
          "No",
          "No",
          "No",
          "No",
          "No",
          "No",
          "No",
          "No",
          "No",
          "No",
          "No",
          "No",
          "No",
          "No",
          "No",
          "No",
          "No",
          "No",
          "No",
          "No",
          "No",
          "No",
          "No",
          "No",
          "No",
          "No"
         ],
         "x0": " ",
         "xaxis": "x2",
         "y": [
          27,
          34,
          30,
          62,
          62,
          52,
          41,
          46,
          51,
          40,
          75,
          59,
          49,
          50,
          76,
          42,
          40,
          44,
          43,
          52,
          41,
          44,
          36,
          70,
          60,
          33,
          43,
          26,
          41,
          37,
          37,
          30,
          36,
          55,
          52,
          37,
          31,
          43,
          40,
          34,
          51,
          45,
          20,
          38,
          38,
          33,
          31,
          31,
          29,
          43,
          30,
          25,
          27,
          25,
          21,
          43,
          23,
          23,
          43,
          24,
          35,
          54,
          54,
          22,
          38,
          35,
          51,
          22,
          51,
          40,
          69,
          31,
          29,
          30,
          28,
          22,
          29,
          35,
          50,
          27,
          17,
          27,
          40,
          33,
          25,
          73,
          62,
          39,
          37,
          26,
          31,
          24,
          57,
          28,
          44,
          42,
          27,
          51,
          33,
          42,
          26,
          24,
          60,
          60,
          31,
          66,
          44,
          32,
          26,
          37,
          33,
          23,
          47,
          28,
          37,
          26,
          28,
          28,
          44,
          31,
          27,
          56,
          63,
          24,
          30,
          31,
          32,
          28,
          51,
          20,
          21,
          32,
          26,
          42,
          28,
          41,
          42,
          49,
          29,
          29,
          25,
          41,
          33,
          27,
          50,
          19,
          35,
          63,
          24,
          36,
          31,
          24,
          33,
          24,
          28,
          22,
          27,
          28,
          29,
          40,
          31,
          55,
          21,
          40,
          38,
          21,
          31,
          30,
          50,
          34,
          45,
          52,
          38,
          67,
          72,
          45,
          45,
          26,
          67,
          56,
          30,
          34,
          50,
          42,
          35,
          23,
          44,
          23,
          26,
          61,
          22,
          31,
          68,
          57,
          27,
          25,
          20,
          33,
          36,
          36,
          40,
          17,
          24,
          38,
          28,
          36,
          50,
          51,
          55,
          31,
          33,
          28,
          48,
          40,
          29,
          20,
          35,
          52,
          35,
          34,
          32,
          27,
          52,
          46,
          30,
          32,
          25,
          38,
          31,
          37,
          21,
          34,
          30,
          48,
          31,
          52,
          38,
          41,
          41,
          70,
          19,
          41,
          32,
          35,
          39,
          45,
          46,
          45,
          28,
          31,
          81,
          41,
          56,
          47,
          37,
          32,
          53,
          30,
          34,
          62,
          58,
          55,
          21,
          27,
          46,
          44,
          29,
          26,
          42,
          56,
          51,
          61,
          48,
          42,
          32
         ],
         "y0": " ",
         "yaxis": "y2"
        },
        {
         "alignmentgroup": "True",
         "hovertemplate": "Recurred=%{x}<br>Age=%{y}<extra></extra>",
         "legendgroup": "Yes",
         "marker": {
          "color": "#EF553B"
         },
         "name": "Yes",
         "notched": false,
         "offsetgroup": "Yes",
         "orientation": "v",
         "showlegend": true,
         "type": "box",
         "x": [
          "Yes",
          "Yes",
          "Yes",
          "Yes",
          "Yes",
          "Yes",
          "Yes",
          "Yes",
          "Yes",
          "Yes",
          "Yes",
          "Yes",
          "Yes",
          "Yes",
          "Yes",
          "Yes",
          "Yes",
          "Yes",
          "Yes",
          "Yes",
          "Yes",
          "Yes",
          "Yes",
          "Yes",
          "Yes",
          "Yes",
          "Yes",
          "Yes",
          "Yes",
          "Yes",
          "Yes",
          "Yes",
          "Yes",
          "Yes",
          "Yes",
          "Yes",
          "Yes",
          "Yes",
          "Yes",
          "Yes",
          "Yes",
          "Yes",
          "Yes",
          "Yes",
          "Yes",
          "Yes",
          "Yes",
          "Yes",
          "Yes",
          "Yes",
          "Yes",
          "Yes",
          "Yes",
          "Yes",
          "Yes",
          "Yes",
          "Yes",
          "Yes",
          "Yes",
          "Yes",
          "Yes",
          "Yes",
          "Yes",
          "Yes",
          "Yes",
          "Yes",
          "Yes",
          "Yes",
          "Yes",
          "Yes",
          "Yes",
          "Yes",
          "Yes",
          "Yes",
          "Yes",
          "Yes",
          "Yes",
          "Yes",
          "Yes",
          "Yes",
          "Yes",
          "Yes",
          "Yes",
          "Yes",
          "Yes",
          "Yes",
          "Yes",
          "Yes",
          "Yes",
          "Yes",
          "Yes",
          "Yes",
          "Yes",
          "Yes",
          "Yes",
          "Yes",
          "Yes",
          "Yes",
          "Yes",
          "Yes",
          "Yes",
          "Yes",
          "Yes",
          "Yes",
          "Yes",
          "Yes",
          "Yes",
          "Yes"
         ],
         "x0": " ",
         "xaxis": "x2",
         "y": [
          26,
          36,
          35,
          31,
          18,
          62,
          56,
          20,
          62,
          17,
          21,
          20,
          40,
          38,
          21,
          31,
          34,
          60,
          60,
          62,
          36,
          29,
          33,
          75,
          62,
          56,
          42,
          34,
          67,
          63,
          67,
          73,
          26,
          30,
          36,
          31,
          40,
          49,
          38,
          27,
          27,
          33,
          32,
          29,
          37,
          48,
          30,
          33,
          80,
          62,
          63,
          60,
          79,
          65,
          35,
          58,
          34,
          56,
          52,
          51,
          31,
          44,
          15,
          29,
          53,
          45,
          38,
          23,
          22,
          44,
          31,
          25,
          32,
          82,
          58,
          68,
          37,
          59,
          21,
          73,
          35,
          54,
          26,
          53,
          35,
          49,
          34,
          80,
          67,
          68,
          71,
          64,
          80,
          56,
          71,
          78,
          51,
          67,
          31,
          62,
          59,
          40,
          46,
          72,
          81,
          72,
          61,
          67
         ],
         "y0": " ",
         "yaxis": "y2"
        },
        {
         "branchvalues": "total",
         "domain": {
          "x": [
           0,
           0.45
          ],
          "y": [
           0,
           0.375
          ]
         },
         "hovertemplate": "labels=%{label}<br>count=%{value}<br>parent=%{parent}<br>id=%{id}<extra></extra>",
         "ids": [
          "I/Follicular/No",
          "II/Follicular/No",
          "I/Hurthel cell/No",
          "II/Hurthel cell/No",
          "I/Micropapillary/No",
          "I/Papillary/No",
          "II/Papillary/No",
          "I/Follicular/Yes",
          "II/Follicular/Yes",
          "IVB/Follicular/Yes",
          "I/Hurthel cell/Yes",
          "II/Hurthel cell/Yes",
          "IVA/Hurthel cell/Yes",
          "I/Papillary/Yes",
          "II/Papillary/Yes",
          "III/Papillary/Yes",
          "IVA/Papillary/Yes",
          "IVB/Papillary/Yes",
          "I/Follicular",
          "II/Follicular",
          "IVB/Follicular",
          "I/Hurthel cell",
          "II/Hurthel cell",
          "IVA/Hurthel cell",
          "I/Micropapillary",
          "I/Papillary",
          "II/Papillary",
          "III/Papillary",
          "IVA/Papillary",
          "IVB/Papillary",
          "I",
          "II",
          "III",
          "IVA",
          "IVB"
         ],
         "labels": [
          "No",
          "No",
          "No",
          "No",
          "No",
          "No",
          "No",
          "Yes",
          "Yes",
          "Yes",
          "Yes",
          "Yes",
          "Yes",
          "Yes",
          "Yes",
          "Yes",
          "Yes",
          "Yes",
          "Follicular",
          "Follicular",
          "Follicular",
          "Hurthel cell",
          "Hurthel cell",
          "Hurthel cell",
          "Micropapillary",
          "Papillary",
          "Papillary",
          "Papillary",
          "Papillary",
          "Papillary",
          "I",
          "II",
          "III",
          "IVA",
          "IVB"
         ],
         "name": "",
         "parents": [
          "I/Follicular",
          "II/Follicular",
          "I/Hurthel cell",
          "II/Hurthel cell",
          "I/Micropapillary",
          "I/Papillary",
          "II/Papillary",
          "I/Follicular",
          "II/Follicular",
          "IVB/Follicular",
          "I/Hurthel cell",
          "II/Hurthel cell",
          "IVA/Hurthel cell",
          "I/Papillary",
          "II/Papillary",
          "III/Papillary",
          "IVA/Papillary",
          "IVB/Papillary",
          "I",
          "II",
          "IVB",
          "I",
          "II",
          "IVA",
          "I",
          "I",
          "II",
          "III",
          "IVA",
          "IVB",
          "",
          "",
          "",
          "",
          ""
         ],
         "type": "sunburst",
         "values": [
          15,
          1,
          13,
          1,
          48,
          192,
          5,
          6,
          2,
          4,
          2,
          3,
          1,
          57,
          20,
          4,
          2,
          7,
          21,
          3,
          4,
          15,
          4,
          1,
          48,
          249,
          25,
          4,
          2,
          7,
          333,
          32,
          4,
          3,
          11
         ]
        },
        {
         "alignmentgroup": "True",
         "bingroup": "x",
         "hovertemplate": "Recurred=No<br>Response=%{x}<br>count=%{y}<extra></extra>",
         "legendgroup": "No",
         "marker": {
          "color": "#636efa",
          "pattern": {
           "shape": ""
          }
         },
         "name": "No",
         "offsetgroup": "No",
         "orientation": "v",
         "showlegend": true,
         "texttemplate": "%{value}",
         "type": "histogram",
         "x": [
          "Indeterminate",
          "Excellent",
          "Excellent",
          "Excellent",
          "Excellent",
          "Indeterminate",
          "Excellent",
          "Excellent",
          "Excellent",
          "Excellent",
          "Excellent",
          "Excellent",
          "Excellent",
          "Excellent",
          "Excellent",
          "Indeterminate",
          "Excellent",
          "Indeterminate",
          "Excellent",
          "Indeterminate",
          "Excellent",
          "Excellent",
          "Excellent",
          "Excellent",
          "Excellent",
          "Excellent",
          "Excellent",
          "Excellent",
          "Excellent",
          "Excellent",
          "Excellent",
          "Excellent",
          "Excellent",
          "Excellent",
          "Excellent",
          "Excellent",
          "Excellent",
          "Excellent",
          "Excellent",
          "Excellent",
          "Excellent",
          "Excellent",
          "Excellent",
          "Excellent",
          "Excellent",
          "Excellent",
          "Excellent",
          "Excellent",
          "Excellent",
          "Excellent",
          "Excellent",
          "Excellent",
          "Excellent",
          "Excellent",
          "Indeterminate",
          "Excellent",
          "Excellent",
          "Excellent",
          "Indeterminate",
          "Excellent",
          "Excellent",
          "Excellent",
          "Indeterminate",
          "Excellent",
          "Excellent",
          "Excellent",
          "Excellent",
          "Excellent",
          "Excellent",
          "Excellent",
          "Excellent",
          "Excellent",
          "Excellent",
          "Excellent",
          "Excellent",
          "Excellent",
          "Excellent",
          "Excellent",
          "Excellent",
          "Excellent",
          "Excellent",
          "Excellent",
          "Excellent",
          "Indeterminate",
          "Excellent",
          "Excellent",
          "Excellent",
          "Indeterminate",
          "Excellent",
          "Excellent",
          "Indeterminate",
          "Excellent",
          "Excellent",
          "Excellent",
          "Excellent",
          "Indeterminate",
          "Excellent",
          "Excellent",
          "Excellent",
          "Excellent",
          "Excellent",
          "Excellent",
          "Excellent",
          "Biochemical Incomplete",
          "Excellent",
          "Excellent",
          "Excellent",
          "Excellent",
          "Excellent",
          "Excellent",
          "Excellent",
          "Indeterminate",
          "Excellent",
          "Excellent",
          "Excellent",
          "Excellent",
          "Excellent",
          "Excellent",
          "Excellent",
          "Excellent",
          "Excellent",
          "Biochemical Incomplete",
          "Excellent",
          "Biochemical Incomplete",
          "Excellent",
          "Excellent",
          "Excellent",
          "Excellent",
          "Excellent",
          "Excellent",
          "Excellent",
          "Excellent",
          "Excellent",
          "Biochemical Incomplete",
          "Excellent",
          "Excellent",
          "Excellent",
          "Excellent",
          "Excellent",
          "Excellent",
          "Indeterminate",
          "Indeterminate",
          "Excellent",
          "Excellent",
          "Excellent",
          "Excellent",
          "Excellent",
          "Biochemical Incomplete",
          "Excellent",
          "Excellent",
          "Excellent",
          "Excellent",
          "Excellent",
          "Excellent",
          "Excellent",
          "Excellent",
          "Excellent",
          "Indeterminate",
          "Excellent",
          "Excellent",
          "Excellent",
          "Excellent",
          "Excellent",
          "Excellent",
          "Excellent",
          "Excellent",
          "Excellent",
          "Indeterminate",
          "Indeterminate",
          "Excellent",
          "Excellent",
          "Excellent",
          "Excellent",
          "Excellent",
          "Indeterminate",
          "Excellent",
          "Biochemical Incomplete",
          "Excellent",
          "Excellent",
          "Excellent",
          "Excellent",
          "Excellent",
          "Excellent",
          "Excellent",
          "Excellent",
          "Excellent",
          "Excellent",
          "Excellent",
          "Excellent",
          "Excellent",
          "Excellent",
          "Excellent",
          "Excellent",
          "Excellent",
          "Excellent",
          "Excellent",
          "Excellent",
          "Excellent",
          "Excellent",
          "Indeterminate",
          "Indeterminate",
          "Indeterminate",
          "Excellent",
          "Excellent",
          "Excellent",
          "Indeterminate",
          "Indeterminate",
          "Indeterminate",
          "Indeterminate",
          "Excellent",
          "Indeterminate",
          "Indeterminate",
          "Indeterminate",
          "Excellent",
          "Indeterminate",
          "Excellent",
          "Indeterminate",
          "Biochemical Incomplete",
          "Excellent",
          "Indeterminate",
          "Excellent",
          "Excellent",
          "Structural Incomplete",
          "Excellent",
          "Excellent",
          "Indeterminate",
          "Excellent",
          "Biochemical Incomplete",
          "Indeterminate",
          "Excellent",
          "Biochemical Incomplete",
          "Excellent",
          "Biochemical Incomplete",
          "Indeterminate",
          "Excellent",
          "Indeterminate",
          "Excellent",
          "Excellent",
          "Biochemical Incomplete",
          "Indeterminate",
          "Excellent",
          "Excellent",
          "Excellent",
          "Indeterminate",
          "Indeterminate",
          "Excellent",
          "Indeterminate",
          "Indeterminate",
          "Indeterminate",
          "Indeterminate",
          "Excellent",
          "Excellent",
          "Indeterminate",
          "Indeterminate",
          "Excellent",
          "Biochemical Incomplete",
          "Indeterminate",
          "Excellent",
          "Excellent",
          "Indeterminate",
          "Indeterminate",
          "Indeterminate",
          "Excellent",
          "Excellent",
          "Indeterminate",
          "Excellent",
          "Excellent",
          "Indeterminate",
          "Indeterminate",
          "Excellent",
          "Indeterminate",
          "Excellent",
          "Structural Incomplete",
          "Indeterminate",
          "Excellent"
         ],
         "xaxis": "x3",
         "yaxis": "y3"
        },
        {
         "alignmentgroup": "True",
         "bingroup": "x",
         "hovertemplate": "Recurred=Yes<br>Response=%{x}<br>count=%{y}<extra></extra>",
         "legendgroup": "Yes",
         "marker": {
          "color": "#EF553B",
          "pattern": {
           "shape": ""
          }
         },
         "name": "Yes",
         "offsetgroup": "Yes",
         "orientation": "v",
         "showlegend": true,
         "texttemplate": "%{value}",
         "type": "histogram",
         "x": [
          "Structural Incomplete",
          "Indeterminate",
          "Structural Incomplete",
          "Structural Incomplete",
          "Structural Incomplete",
          "Structural Incomplete",
          "Structural Incomplete",
          "Structural Incomplete",
          "Biochemical Incomplete",
          "Structural Incomplete",
          "Structural Incomplete",
          "Structural Incomplete",
          "Structural Incomplete",
          "Structural Incomplete",
          "Structural Incomplete",
          "Structural Incomplete",
          "Structural Incomplete",
          "Structural Incomplete",
          "Structural Incomplete",
          "Structural Incomplete",
          "Indeterminate",
          "Structural Incomplete",
          "Structural Incomplete",
          "Structural Incomplete",
          "Structural Incomplete",
          "Biochemical Incomplete",
          "Structural Incomplete",
          "Structural Incomplete",
          "Indeterminate",
          "Indeterminate",
          "Biochemical Incomplete",
          "Structural Incomplete",
          "Structural Incomplete",
          "Structural Incomplete",
          "Indeterminate",
          "Structural Incomplete",
          "Structural Incomplete",
          "Structural Incomplete",
          "Structural Incomplete",
          "Structural Incomplete",
          "Structural Incomplete",
          "Biochemical Incomplete",
          "Structural Incomplete",
          "Structural Incomplete",
          "Structural Incomplete",
          "Structural Incomplete",
          "Structural Incomplete",
          "Structural Incomplete",
          "Structural Incomplete",
          "Structural Incomplete",
          "Structural Incomplete",
          "Structural Incomplete",
          "Indeterminate",
          "Biochemical Incomplete",
          "Biochemical Incomplete",
          "Indeterminate",
          "Biochemical Incomplete",
          "Structural Incomplete",
          "Biochemical Incomplete",
          "Structural Incomplete",
          "Biochemical Incomplete",
          "Structural Incomplete",
          "Structural Incomplete",
          "Structural Incomplete",
          "Structural Incomplete",
          "Structural Incomplete",
          "Structural Incomplete",
          "Structural Incomplete",
          "Structural Incomplete",
          "Structural Incomplete",
          "Excellent",
          "Structural Incomplete",
          "Structural Incomplete",
          "Structural Incomplete",
          "Structural Incomplete",
          "Structural Incomplete",
          "Structural Incomplete",
          "Structural Incomplete",
          "Structural Incomplete",
          "Structural Incomplete",
          "Structural Incomplete",
          "Structural Incomplete",
          "Structural Incomplete",
          "Structural Incomplete",
          "Structural Incomplete",
          "Structural Incomplete",
          "Structural Incomplete",
          "Structural Incomplete",
          "Structural Incomplete",
          "Structural Incomplete",
          "Structural Incomplete",
          "Structural Incomplete",
          "Structural Incomplete",
          "Structural Incomplete",
          "Structural Incomplete",
          "Structural Incomplete",
          "Structural Incomplete",
          "Biochemical Incomplete",
          "Structural Incomplete",
          "Structural Incomplete",
          "Structural Incomplete",
          "Structural Incomplete",
          "Structural Incomplete",
          "Biochemical Incomplete",
          "Structural Incomplete",
          "Structural Incomplete",
          "Structural Incomplete",
          "Structural Incomplete"
         ],
         "xaxis": "x3",
         "yaxis": "y3"
        }
       ],
       "layout": {
        "annotations": [
         {
          "font": {
           "size": 16
          },
          "showarrow": false,
          "text": "1️⃣ Recurrence by Gender",
          "x": 0.225,
          "xanchor": "center",
          "xref": "paper",
          "y": 1,
          "yanchor": "bottom",
          "yref": "paper"
         },
         {
          "font": {
           "size": 16
          },
          "showarrow": false,
          "text": "2️⃣ Age vs Recurrence",
          "x": 0.775,
          "xanchor": "center",
          "xref": "paper",
          "y": 1,
          "yanchor": "bottom",
          "yref": "paper"
         },
         {
          "font": {
           "size": 16
          },
          "showarrow": false,
          "text": "3️⃣ Stage and Pathology vs Recurrence",
          "x": 0.225,
          "xanchor": "center",
          "xref": "paper",
          "y": 0.375,
          "yanchor": "bottom",
          "yref": "paper"
         },
         {
          "font": {
           "size": 16
          },
          "showarrow": false,
          "text": "4️⃣ Treatment Response vs Recurrence",
          "x": 0.775,
          "xanchor": "center",
          "xref": "paper",
          "y": 0.375,
          "yanchor": "bottom",
          "yref": "paper"
         }
        ],
        "height": 800,
        "template": {
         "data": {
          "bar": [
           {
            "error_x": {
             "color": "#f2f5fa"
            },
            "error_y": {
             "color": "#f2f5fa"
            },
            "marker": {
             "line": {
              "color": "rgb(17,17,17)",
              "width": 0.5
             },
             "pattern": {
              "fillmode": "overlay",
              "size": 10,
              "solidity": 0.2
             }
            },
            "type": "bar"
           }
          ],
          "barpolar": [
           {
            "marker": {
             "line": {
              "color": "rgb(17,17,17)",
              "width": 0.5
             },
             "pattern": {
              "fillmode": "overlay",
              "size": 10,
              "solidity": 0.2
             }
            },
            "type": "barpolar"
           }
          ],
          "carpet": [
           {
            "aaxis": {
             "endlinecolor": "#A2B1C6",
             "gridcolor": "#506784",
             "linecolor": "#506784",
             "minorgridcolor": "#506784",
             "startlinecolor": "#A2B1C6"
            },
            "baxis": {
             "endlinecolor": "#A2B1C6",
             "gridcolor": "#506784",
             "linecolor": "#506784",
             "minorgridcolor": "#506784",
             "startlinecolor": "#A2B1C6"
            },
            "type": "carpet"
           }
          ],
          "choropleth": [
           {
            "colorbar": {
             "outlinewidth": 0,
             "ticks": ""
            },
            "type": "choropleth"
           }
          ],
          "contour": [
           {
            "colorbar": {
             "outlinewidth": 0,
             "ticks": ""
            },
            "colorscale": [
             [
              0,
              "#0d0887"
             ],
             [
              0.1111111111111111,
              "#46039f"
             ],
             [
              0.2222222222222222,
              "#7201a8"
             ],
             [
              0.3333333333333333,
              "#9c179e"
             ],
             [
              0.4444444444444444,
              "#bd3786"
             ],
             [
              0.5555555555555556,
              "#d8576b"
             ],
             [
              0.6666666666666666,
              "#ed7953"
             ],
             [
              0.7777777777777778,
              "#fb9f3a"
             ],
             [
              0.8888888888888888,
              "#fdca26"
             ],
             [
              1,
              "#f0f921"
             ]
            ],
            "type": "contour"
           }
          ],
          "contourcarpet": [
           {
            "colorbar": {
             "outlinewidth": 0,
             "ticks": ""
            },
            "type": "contourcarpet"
           }
          ],
          "heatmap": [
           {
            "colorbar": {
             "outlinewidth": 0,
             "ticks": ""
            },
            "colorscale": [
             [
              0,
              "#0d0887"
             ],
             [
              0.1111111111111111,
              "#46039f"
             ],
             [
              0.2222222222222222,
              "#7201a8"
             ],
             [
              0.3333333333333333,
              "#9c179e"
             ],
             [
              0.4444444444444444,
              "#bd3786"
             ],
             [
              0.5555555555555556,
              "#d8576b"
             ],
             [
              0.6666666666666666,
              "#ed7953"
             ],
             [
              0.7777777777777778,
              "#fb9f3a"
             ],
             [
              0.8888888888888888,
              "#fdca26"
             ],
             [
              1,
              "#f0f921"
             ]
            ],
            "type": "heatmap"
           }
          ],
          "heatmapgl": [
           {
            "colorbar": {
             "outlinewidth": 0,
             "ticks": ""
            },
            "colorscale": [
             [
              0,
              "#0d0887"
             ],
             [
              0.1111111111111111,
              "#46039f"
             ],
             [
              0.2222222222222222,
              "#7201a8"
             ],
             [
              0.3333333333333333,
              "#9c179e"
             ],
             [
              0.4444444444444444,
              "#bd3786"
             ],
             [
              0.5555555555555556,
              "#d8576b"
             ],
             [
              0.6666666666666666,
              "#ed7953"
             ],
             [
              0.7777777777777778,
              "#fb9f3a"
             ],
             [
              0.8888888888888888,
              "#fdca26"
             ],
             [
              1,
              "#f0f921"
             ]
            ],
            "type": "heatmapgl"
           }
          ],
          "histogram": [
           {
            "marker": {
             "pattern": {
              "fillmode": "overlay",
              "size": 10,
              "solidity": 0.2
             }
            },
            "type": "histogram"
           }
          ],
          "histogram2d": [
           {
            "colorbar": {
             "outlinewidth": 0,
             "ticks": ""
            },
            "colorscale": [
             [
              0,
              "#0d0887"
             ],
             [
              0.1111111111111111,
              "#46039f"
             ],
             [
              0.2222222222222222,
              "#7201a8"
             ],
             [
              0.3333333333333333,
              "#9c179e"
             ],
             [
              0.4444444444444444,
              "#bd3786"
             ],
             [
              0.5555555555555556,
              "#d8576b"
             ],
             [
              0.6666666666666666,
              "#ed7953"
             ],
             [
              0.7777777777777778,
              "#fb9f3a"
             ],
             [
              0.8888888888888888,
              "#fdca26"
             ],
             [
              1,
              "#f0f921"
             ]
            ],
            "type": "histogram2d"
           }
          ],
          "histogram2dcontour": [
           {
            "colorbar": {
             "outlinewidth": 0,
             "ticks": ""
            },
            "colorscale": [
             [
              0,
              "#0d0887"
             ],
             [
              0.1111111111111111,
              "#46039f"
             ],
             [
              0.2222222222222222,
              "#7201a8"
             ],
             [
              0.3333333333333333,
              "#9c179e"
             ],
             [
              0.4444444444444444,
              "#bd3786"
             ],
             [
              0.5555555555555556,
              "#d8576b"
             ],
             [
              0.6666666666666666,
              "#ed7953"
             ],
             [
              0.7777777777777778,
              "#fb9f3a"
             ],
             [
              0.8888888888888888,
              "#fdca26"
             ],
             [
              1,
              "#f0f921"
             ]
            ],
            "type": "histogram2dcontour"
           }
          ],
          "mesh3d": [
           {
            "colorbar": {
             "outlinewidth": 0,
             "ticks": ""
            },
            "type": "mesh3d"
           }
          ],
          "parcoords": [
           {
            "line": {
             "colorbar": {
              "outlinewidth": 0,
              "ticks": ""
             }
            },
            "type": "parcoords"
           }
          ],
          "pie": [
           {
            "automargin": true,
            "type": "pie"
           }
          ],
          "scatter": [
           {
            "marker": {
             "line": {
              "color": "#283442"
             }
            },
            "type": "scatter"
           }
          ],
          "scatter3d": [
           {
            "line": {
             "colorbar": {
              "outlinewidth": 0,
              "ticks": ""
             }
            },
            "marker": {
             "colorbar": {
              "outlinewidth": 0,
              "ticks": ""
             }
            },
            "type": "scatter3d"
           }
          ],
          "scattercarpet": [
           {
            "marker": {
             "colorbar": {
              "outlinewidth": 0,
              "ticks": ""
             }
            },
            "type": "scattercarpet"
           }
          ],
          "scattergeo": [
           {
            "marker": {
             "colorbar": {
              "outlinewidth": 0,
              "ticks": ""
             }
            },
            "type": "scattergeo"
           }
          ],
          "scattergl": [
           {
            "marker": {
             "line": {
              "color": "#283442"
             }
            },
            "type": "scattergl"
           }
          ],
          "scattermapbox": [
           {
            "marker": {
             "colorbar": {
              "outlinewidth": 0,
              "ticks": ""
             }
            },
            "type": "scattermapbox"
           }
          ],
          "scatterpolar": [
           {
            "marker": {
             "colorbar": {
              "outlinewidth": 0,
              "ticks": ""
             }
            },
            "type": "scatterpolar"
           }
          ],
          "scatterpolargl": [
           {
            "marker": {
             "colorbar": {
              "outlinewidth": 0,
              "ticks": ""
             }
            },
            "type": "scatterpolargl"
           }
          ],
          "scatterternary": [
           {
            "marker": {
             "colorbar": {
              "outlinewidth": 0,
              "ticks": ""
             }
            },
            "type": "scatterternary"
           }
          ],
          "surface": [
           {
            "colorbar": {
             "outlinewidth": 0,
             "ticks": ""
            },
            "colorscale": [
             [
              0,
              "#0d0887"
             ],
             [
              0.1111111111111111,
              "#46039f"
             ],
             [
              0.2222222222222222,
              "#7201a8"
             ],
             [
              0.3333333333333333,
              "#9c179e"
             ],
             [
              0.4444444444444444,
              "#bd3786"
             ],
             [
              0.5555555555555556,
              "#d8576b"
             ],
             [
              0.6666666666666666,
              "#ed7953"
             ],
             [
              0.7777777777777778,
              "#fb9f3a"
             ],
             [
              0.8888888888888888,
              "#fdca26"
             ],
             [
              1,
              "#f0f921"
             ]
            ],
            "type": "surface"
           }
          ],
          "table": [
           {
            "cells": {
             "fill": {
              "color": "#506784"
             },
             "line": {
              "color": "rgb(17,17,17)"
             }
            },
            "header": {
             "fill": {
              "color": "#2a3f5f"
             },
             "line": {
              "color": "rgb(17,17,17)"
             }
            },
            "type": "table"
           }
          ]
         },
         "layout": {
          "annotationdefaults": {
           "arrowcolor": "#f2f5fa",
           "arrowhead": 0,
           "arrowwidth": 1
          },
          "autotypenumbers": "strict",
          "coloraxis": {
           "colorbar": {
            "outlinewidth": 0,
            "ticks": ""
           }
          },
          "colorscale": {
           "diverging": [
            [
             0,
             "#8e0152"
            ],
            [
             0.1,
             "#c51b7d"
            ],
            [
             0.2,
             "#de77ae"
            ],
            [
             0.3,
             "#f1b6da"
            ],
            [
             0.4,
             "#fde0ef"
            ],
            [
             0.5,
             "#f7f7f7"
            ],
            [
             0.6,
             "#e6f5d0"
            ],
            [
             0.7,
             "#b8e186"
            ],
            [
             0.8,
             "#7fbc41"
            ],
            [
             0.9,
             "#4d9221"
            ],
            [
             1,
             "#276419"
            ]
           ],
           "sequential": [
            [
             0,
             "#0d0887"
            ],
            [
             0.1111111111111111,
             "#46039f"
            ],
            [
             0.2222222222222222,
             "#7201a8"
            ],
            [
             0.3333333333333333,
             "#9c179e"
            ],
            [
             0.4444444444444444,
             "#bd3786"
            ],
            [
             0.5555555555555556,
             "#d8576b"
            ],
            [
             0.6666666666666666,
             "#ed7953"
            ],
            [
             0.7777777777777778,
             "#fb9f3a"
            ],
            [
             0.8888888888888888,
             "#fdca26"
            ],
            [
             1,
             "#f0f921"
            ]
           ],
           "sequentialminus": [
            [
             0,
             "#0d0887"
            ],
            [
             0.1111111111111111,
             "#46039f"
            ],
            [
             0.2222222222222222,
             "#7201a8"
            ],
            [
             0.3333333333333333,
             "#9c179e"
            ],
            [
             0.4444444444444444,
             "#bd3786"
            ],
            [
             0.5555555555555556,
             "#d8576b"
            ],
            [
             0.6666666666666666,
             "#ed7953"
            ],
            [
             0.7777777777777778,
             "#fb9f3a"
            ],
            [
             0.8888888888888888,
             "#fdca26"
            ],
            [
             1,
             "#f0f921"
            ]
           ]
          },
          "colorway": [
           "#636efa",
           "#EF553B",
           "#00cc96",
           "#ab63fa",
           "#FFA15A",
           "#19d3f3",
           "#FF6692",
           "#B6E880",
           "#FF97FF",
           "#FECB52"
          ],
          "font": {
           "color": "#f2f5fa"
          },
          "geo": {
           "bgcolor": "rgb(17,17,17)",
           "lakecolor": "rgb(17,17,17)",
           "landcolor": "rgb(17,17,17)",
           "showlakes": true,
           "showland": true,
           "subunitcolor": "#506784"
          },
          "hoverlabel": {
           "align": "left"
          },
          "hovermode": "closest",
          "mapbox": {
           "style": "dark"
          },
          "paper_bgcolor": "rgb(17,17,17)",
          "plot_bgcolor": "rgb(17,17,17)",
          "polar": {
           "angularaxis": {
            "gridcolor": "#506784",
            "linecolor": "#506784",
            "ticks": ""
           },
           "bgcolor": "rgb(17,17,17)",
           "radialaxis": {
            "gridcolor": "#506784",
            "linecolor": "#506784",
            "ticks": ""
           }
          },
          "scene": {
           "xaxis": {
            "backgroundcolor": "rgb(17,17,17)",
            "gridcolor": "#506784",
            "gridwidth": 2,
            "linecolor": "#506784",
            "showbackground": true,
            "ticks": "",
            "zerolinecolor": "#C8D4E3"
           },
           "yaxis": {
            "backgroundcolor": "rgb(17,17,17)",
            "gridcolor": "#506784",
            "gridwidth": 2,
            "linecolor": "#506784",
            "showbackground": true,
            "ticks": "",
            "zerolinecolor": "#C8D4E3"
           },
           "zaxis": {
            "backgroundcolor": "rgb(17,17,17)",
            "gridcolor": "#506784",
            "gridwidth": 2,
            "linecolor": "#506784",
            "showbackground": true,
            "ticks": "",
            "zerolinecolor": "#C8D4E3"
           }
          },
          "shapedefaults": {
           "line": {
            "color": "#f2f5fa"
           }
          },
          "sliderdefaults": {
           "bgcolor": "#C8D4E3",
           "bordercolor": "rgb(17,17,17)",
           "borderwidth": 1,
           "tickwidth": 0
          },
          "ternary": {
           "aaxis": {
            "gridcolor": "#506784",
            "linecolor": "#506784",
            "ticks": ""
           },
           "baxis": {
            "gridcolor": "#506784",
            "linecolor": "#506784",
            "ticks": ""
           },
           "bgcolor": "rgb(17,17,17)",
           "caxis": {
            "gridcolor": "#506784",
            "linecolor": "#506784",
            "ticks": ""
           }
          },
          "title": {
           "x": 0.05
          },
          "updatemenudefaults": {
           "bgcolor": "#506784",
           "borderwidth": 0
          },
          "xaxis": {
           "automargin": true,
           "gridcolor": "#283442",
           "linecolor": "#506784",
           "ticks": "",
           "title": {
            "standoff": 15
           },
           "zerolinecolor": "#283442",
           "zerolinewidth": 2
          },
          "yaxis": {
           "automargin": true,
           "gridcolor": "#283442",
           "linecolor": "#506784",
           "ticks": "",
           "title": {
            "standoff": 15
           },
           "zerolinecolor": "#283442",
           "zerolinewidth": 2
          }
         }
        },
        "title": {
         "text": "Thyroid Cancer Recurrence Analysis"
        },
        "width": 1000,
        "xaxis": {
         "anchor": "y",
         "domain": [
          0,
          0.45
         ]
        },
        "xaxis2": {
         "anchor": "y2",
         "domain": [
          0.55,
          1
         ]
        },
        "xaxis3": {
         "anchor": "y3",
         "domain": [
          0.55,
          1
         ]
        },
        "yaxis": {
         "anchor": "x",
         "domain": [
          0.625,
          1
         ]
        },
        "yaxis2": {
         "anchor": "x2",
         "domain": [
          0.625,
          1
         ]
        },
        "yaxis3": {
         "anchor": "x3",
         "domain": [
          0,
          0.375
         ]
        }
       }
      }
     },
     "metadata": {},
     "output_type": "display_data"
    }
   ],
   "source": [
    "# 🔍 Data Visualization for Insights\n",
    "\n",
    "# Create a subplot with 2 rows and 2 columns\n",
    "fig = make_subplots(\n",
    "    rows=2, cols=2,\n",
    "    specs=[[{}, {}],\n",
    "           [{\"type\": \"domain\"}, {}]],\n",
    "    subplot_titles=(\n",
    "        '1️⃣ Recurrence by Gender',\n",
    "        '2️⃣ Age vs Recurrence',\n",
    "        '3️⃣ Stage and Pathology vs Recurrence',\n",
    "        '4️⃣ Treatment Response vs Recurrence'\n",
    "    )\n",
    ")\n",
    "\n",
    "# 1️⃣ Gender-based Recurrence\n",
    "fig1 = px.histogram(df, x='Gender', color='Recurred', barmode='group', text_auto=True)\n",
    "for trace in fig1.data:\n",
    "    fig.add_trace(trace, row=1, col=1)\n",
    "\n",
    "# 2️⃣ Age-based Recurrence Distribution (Boxplot)\n",
    "fig2 = px.box(df, x='Recurred', y='Age', color='Recurred')\n",
    "for trace in fig2.data:\n",
    "    fig.add_trace(trace, row=1, col=2)\n",
    "\n",
    "# 3️⃣ Sunburst Chart: Stage and Pathology vs Recurrence\n",
    "fig3 = px.sunburst(df, path=['Stage', 'Pathology', 'Recurred'])\n",
    "fig.add_trace(fig3.data[0], row=2, col=1)\n",
    "\n",
    "# 4️⃣ Treatment Response vs Recurrence\n",
    "fig4 = px.histogram(df, x='Response', color='Recurred', barmode='group', text_auto=True)\n",
    "for trace in fig4.data:\n",
    "    fig.add_trace(trace, row=2, col=2)\n",
    "\n",
    "# Update layout for final figure appearance\n",
    "fig.update_layout(\n",
    "    height=800,\n",
    "    width=1000,\n",
    "    title_text='Thyroid Cancer Recurrence Analysis',\n",
    "    template='plotly_dark'\n",
    ")\n",
    "\n",
    "# Show the final figure\n",
    "fig.show()"
   ]
  }
 ],
 "metadata": {
  "kaggle": {
   "accelerator": "none",
   "dataSources": [
    {
     "datasetId": 6889747,
     "sourceId": 11058290,
     "sourceType": "datasetVersion"
    }
   ],
   "dockerImageVersionId": 31012,
   "isGpuEnabled": false,
   "isInternetEnabled": true,
   "language": "python",
   "sourceType": "notebook"
  },
  "kernelspec": {
   "display_name": "base",
   "language": "python",
   "name": "python3"
  },
  "language_info": {
   "codemirror_mode": {
    "name": "ipython",
    "version": 3
   },
   "file_extension": ".py",
   "mimetype": "text/x-python",
   "name": "python",
   "nbconvert_exporter": "python",
   "pygments_lexer": "ipython3",
   "version": "3.11.5"
  },
  "papermill": {
   "default_parameters": {},
   "duration": 42.29987,
   "end_time": "2025-04-21T02:43:25.051500",
   "environment_variables": {},
   "exception": null,
   "input_path": "__notebook__.ipynb",
   "output_path": "__notebook__.ipynb",
   "parameters": {},
   "start_time": "2025-04-21T02:42:42.751630",
   "version": "2.6.0"
  }
 },
 "nbformat": 4,
 "nbformat_minor": 5
}
